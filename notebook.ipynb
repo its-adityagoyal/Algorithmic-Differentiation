{
 "cells": [
  {
   "cell_type": "markdown",
   "id": "d4eb423f",
   "metadata": {},
   "source": [
    "Import Libraries"
   ]
  },
  {
   "cell_type": "code",
   "execution_count": 1,
   "id": "797cf37f",
   "metadata": {},
   "outputs": [],
   "source": [
    "import time\n",
    "import numpy as np\n",
    "from scipy.stats import norm"
   ]
  },
  {
   "cell_type": "markdown",
   "id": "0f34f715",
   "metadata": {},
   "source": [
    "FUNCTION\n",
    "\n",
    "f(x,y,z)=x^3+y/z+z^2"
   ]
  },
  {
   "cell_type": "code",
   "execution_count": 2,
   "id": "17b225cf",
   "metadata": {},
   "outputs": [
    {
     "name": "stdout",
     "output_type": "stream",
     "text": [
      "f(2,4,3)= 18.333333333333336\n"
     ]
    }
   ],
   "source": [
    "def function(x,y,z):\n",
    "    m0=x\n",
    "    m1=y\n",
    "    m2=z\n",
    "    m3=m0**3\n",
    "    m4=m1/m2\n",
    "    m5=m2**2\n",
    "    m6=m3+m4+m5\n",
    "    return m6\n",
    "\n",
    "print(\"f(2,4,3)=\",function(2,4,3))"
   ]
  },
  {
   "cell_type": "markdown",
   "id": "513366a9",
   "metadata": {},
   "source": [
    "TANGENT MODE (FORWARD)"
   ]
  },
  {
   "cell_type": "code",
   "execution_count": 3,
   "id": "65294378",
   "metadata": {},
   "outputs": [
    {
     "name": "stdout",
     "output_type": "stream",
     "text": [
      "df/dx= 12.0\n",
      "df/dy= 0.3333333333333333\n",
      "df/dz= 5.555555555555555\n",
      "The function took 71100 nano-seconds to run.\n"
     ]
    }
   ],
   "source": [
    "def tangent(x,y,z,x_dot,y_dot,z_dot):\n",
    "    m0=x\n",
    "    m1=y\n",
    "    m2=z\n",
    "    m0_dot=x_dot\n",
    "    m1_dot=y_dot\n",
    "    m2_dot=z_dot\n",
    "    m3_dot=3*(m0**2)*m0_dot\n",
    "    m4_dot=m1_dot/m2-(m1/m2**2)*m2_dot\n",
    "    m5_dot=2*m2*m2_dot\n",
    "    m6_dot=m3_dot+m4_dot+m5_dot\n",
    "    return m6_dot\n",
    "\n",
    "start_time = time.perf_counter_ns()\n",
    "df_dx = tangent(2,4,3,1,0,0)\n",
    "df_dy = tangent(2,4,3,0,1,0)\n",
    "df_dz = tangent(2,4,3,0,0,1)\n",
    "end_time = time.perf_counter_ns()\n",
    "elapsed_time = end_time - start_time\n",
    "\n",
    "print(\"df/dx=\",df_dx)\n",
    "print(\"df/dy=\",df_dy)\n",
    "print(\"df/dz=\",df_dz)\n",
    "print(f\"The function took {elapsed_time} nano-seconds to run.\")\n"
   ]
  },
  {
   "cell_type": "markdown",
   "id": "deac300e",
   "metadata": {},
   "source": [
    "ADJOINT MODE (BACKWARD)"
   ]
  },
  {
   "cell_type": "code",
   "execution_count": 4,
   "id": "d17c1421",
   "metadata": {},
   "outputs": [
    {
     "name": "stdout",
     "output_type": "stream",
     "text": [
      "df/dx= 12\n",
      "df/dy= 0.3333333333333333\n",
      "df/dz= 5.555555555555555\n",
      "The function took 42700 nano-seconds to run.\n"
     ]
    }
   ],
   "source": [
    "def adjoint(x,y,z):\n",
    "    m0=x\n",
    "    m1=y\n",
    "    m2=z\n",
    "    m6_bar=1\n",
    "    m5_bar=1\n",
    "    m4_bar=1\n",
    "    m3_bar=1\n",
    "    m2_bar=2*m2*m5_bar-(m1/m2**2)*m4_bar\n",
    "    m1_bar=(1/m2)*m4_bar\n",
    "    m0_bar=3*(m0**2)*m3_bar\n",
    "    return m0_bar,m1_bar,m2_bar\n",
    "\n",
    "start_time=time.perf_counter_ns()\n",
    "df_dx,df_dy,df_dz=adjoint(2,4,3)\n",
    "end_time = time.perf_counter_ns()\n",
    "elapsed_time = end_time - start_time\n",
    "\n",
    "print(\"df/dx=\",df_dx)\n",
    "print(\"df/dy=\",df_dy)\n",
    "print(\"df/dz=\",df_dz)\n",
    "print(f\"The function took {elapsed_time} nano-seconds to run.\")"
   ]
  },
  {
   "cell_type": "markdown",
   "id": "68591ee8",
   "metadata": {},
   "source": [
    "PRICING OPTIONS and OPTION GREEKS using BLACK SCHOLES"
   ]
  },
  {
   "cell_type": "code",
   "execution_count": 5,
   "id": "4b12425b",
   "metadata": {},
   "outputs": [],
   "source": [
    "def black_scholes(So,r,sigma,T,K):\n",
    "    m0=So\n",
    "    m1=r\n",
    "    m2=sigma\n",
    "    m3=T\n",
    "    m4=np.sqrt(m3)\n",
    "    m5=m2*m4\n",
    "    m6=((np.log(m0/K)+m1*m3)/m5)+m5/2\n",
    "    m7=m6-m5\n",
    "    m8=norm.cdf(m6)\n",
    "    m9=norm.cdf(m7)\n",
    "    V=m0*m8-K*np.exp(-m1*m3)*m9\n",
    "    return V"
   ]
  },
  {
   "cell_type": "markdown",
   "id": "87c5470f",
   "metadata": {},
   "source": [
    "Example 1"
   ]
  },
  {
   "cell_type": "code",
   "execution_count": 6,
   "id": "b00ddbff",
   "metadata": {},
   "outputs": [
    {
     "name": "stdout",
     "output_type": "stream",
     "text": [
      "1.45323566079621\n"
     ]
    }
   ],
   "source": [
    "print(black_scholes(50,0.05,0.2,0.5,55))"
   ]
  },
  {
   "cell_type": "markdown",
   "id": "292f8e04",
   "metadata": {},
   "source": [
    "Example 2"
   ]
  },
  {
   "cell_type": "code",
   "execution_count": 7,
   "id": "b421af48",
   "metadata": {},
   "outputs": [
    {
     "name": "stdout",
     "output_type": "stream",
     "text": [
      "2.486704880493368e-38\n"
     ]
    }
   ],
   "source": [
    "print(black_scholes(50,0.05,0.2,0.083,105))"
   ]
  },
  {
   "cell_type": "markdown",
   "id": "119c91fb",
   "metadata": {},
   "source": [
    "Example 3"
   ]
  },
  {
   "cell_type": "code",
   "execution_count": 8,
   "id": "9d6e54b9",
   "metadata": {},
   "outputs": [
    {
     "name": "stdout",
     "output_type": "stream",
     "text": [
      "46.08908652986397\n"
     ]
    }
   ],
   "source": [
    "print(black_scholes(100,0.04,0.2,0.5,55))"
   ]
  },
  {
   "cell_type": "code",
   "execution_count": 9,
   "id": "a1cee47f",
   "metadata": {},
   "outputs": [],
   "source": [
    "def option_greeks(So,r,sigma,T,K,V_bar):\n",
    "    m0=So\n",
    "    m1=r\n",
    "    m2=sigma\n",
    "    m3=T\n",
    "    m4=np.sqrt(m3)\n",
    "    m5=m2*m4\n",
    "    m6=((np.log(m0/K)+m1*m3)/m5)+m5/2\n",
    "    m7=m6-m5\n",
    "    m8=norm.cdf(m6)\n",
    "    m9=norm.cdf(m7)\n",
    "    V=m0*m8-K*np.exp(-m1*m3)*m9\n",
    "\n",
    "    m9_bar=-K*np.exp(-m1*m3)*V_bar\n",
    "    m8_bar=m0*V_bar\n",
    "    m7_bar=m9_bar*norm.pdf(m7)\n",
    "    m6_bar=m7_bar+m8_bar*norm.pdf(m6)\n",
    "    m5_bar=-m6_bar*(np.log(m0/K)+m1*m3)/m5**2 +0.5*m6_bar-m7_bar\n",
    "    m4_bar=m5_bar*m2\n",
    "    m3_bar=m4_bar/(2*np.sqrt(m3))+(m6_bar*m1)/m5+V_bar*K*m9*m1*np.exp(-m1*m3)\n",
    "    m2_bar=m5_bar*m4\n",
    "    m1_bar=m6_bar*m3/m5+ V_bar*K*m9*m3*np.exp(-m1*m3)\n",
    "    m0_bar=m6_bar/(m0*m5)+V_bar*m8\n",
    "    return m0_bar,m1_bar,m2_bar,m3_bar\n",
    "    "
   ]
  },
  {
   "cell_type": "markdown",
   "id": "b500157f",
   "metadata": {},
   "source": [
    "Example 1"
   ]
  },
  {
   "cell_type": "code",
   "execution_count": 10,
   "id": "76462550",
   "metadata": {},
   "outputs": [
    {
     "name": "stdout",
     "output_type": "stream",
     "text": [
      "Delta= 0.33488730209977347\n",
      "Rho= 7.645564722096233\n",
      "Vega= 12.878740610951775\n",
      "Theta= 3.340304594399978\n"
     ]
    }
   ],
   "source": [
    "Delta,Rho,Vega,Theta=option_greeks(50,0.05,0.2,0.5,55,1)\n",
    "print(\"Delta=\",Delta)\n",
    "print(\"Rho=\",Rho)\n",
    "print(\"Vega=\",Vega)\n",
    "print(\"Theta=\",Theta)"
   ]
  },
  {
   "cell_type": "markdown",
   "id": "5eb76472",
   "metadata": {},
   "source": [
    "Example 2"
   ]
  },
  {
   "cell_type": "code",
   "execution_count": 11,
   "id": "a2bba27b",
   "metadata": {},
   "outputs": [
    {
     "name": "stdout",
     "output_type": "stream",
     "text": [
      "Delta= 0.3221078176746137\n",
      "Rho= 7.3635990180365996\n",
      "Vega= 12.67809108452687\n",
      "Theta= 3.1247061383483015\n"
     ]
    }
   ],
   "source": [
    "Delta,Rho,Vega,Theta=option_greeks(50,0.04,0.2,0.5,55,1)\n",
    "print(\"Delta=\",Delta)\n",
    "print(\"Rho=\",Rho)\n",
    "print(\"Vega=\",Vega)\n",
    "print(\"Theta=\",Theta)"
   ]
  },
  {
   "cell_type": "markdown",
   "id": "9c96fecb",
   "metadata": {},
   "source": [
    "Example 3"
   ]
  },
  {
   "cell_type": "code",
   "execution_count": 12,
   "id": "c3e2ac0b",
   "metadata": {},
   "outputs": [
    {
     "name": "stdout",
     "output_type": "stream",
     "text": [
      "Delta= 0.22785435587076502\n",
      "Rho= 1.8297579899588992\n",
      "Vega= 8.702125553954934\n",
      "Theta= 11.586752468595645\n"
     ]
    }
   ],
   "source": [
    "Delta,Rho,Vega,Theta=option_greeks(100,0.05,0.2,0.083,105,1)\n",
    "print(\"Delta=\",Delta)\n",
    "print(\"Rho=\",Rho)\n",
    "print(\"Vega=\",Vega)\n",
    "print(\"Theta=\",Theta)"
   ]
  }
 ],
 "metadata": {
  "kernelspec": {
   "display_name": "Python 3",
   "language": "python",
   "name": "python3"
  },
  "language_info": {
   "codemirror_mode": {
    "name": "ipython",
    "version": 3
   },
   "file_extension": ".py",
   "mimetype": "text/x-python",
   "name": "python",
   "nbconvert_exporter": "python",
   "pygments_lexer": "ipython3",
   "version": "3.12.0"
  }
 },
 "nbformat": 4,
 "nbformat_minor": 5
}
